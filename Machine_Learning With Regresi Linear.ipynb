{
  "nbformat": 4,
  "nbformat_minor": 0,
  "metadata": {
    "colab": {
      "provenance": [],
      "authorship_tag": "ABX9TyNi5/siUerf/aU6epQ3f4ft",
      "include_colab_link": true
    },
    "kernelspec": {
      "name": "python3",
      "display_name": "Python 3"
    },
    "language_info": {
      "name": "python"
    }
  },
  "cells": [
    {
      "cell_type": "markdown",
      "metadata": {
        "id": "view-in-github",
        "colab_type": "text"
      },
      "source": [
        "<a href=\"https://colab.research.google.com/github/zidan1708/MyProjects/blob/main/Machine_Learning%20With%20Regresi%20Linear.ipynb\" target=\"_parent\"><img src=\"https://colab.research.google.com/assets/colab-badge.svg\" alt=\"Open In Colab\"/></a>"
      ]
    },
    {
      "cell_type": "markdown",
      "source": [
        "#MACHINE LEARNING"
      ],
      "metadata": {
        "id": "-xLY2maUIOTk"
      }
    },
    {
      "cell_type": "markdown",
      "source": [
        "#understanding analysis"
      ],
      "metadata": {
        "id": "-pE2hal8R9YY"
      }
    },
    {
      "cell_type": "markdown",
      "source": [
        "algoritma machine learning dibagi menjadi 3 yaitu\n",
        "1. supervised learning = mengacu pada cara kerja algoritma machine learning yang cara belajarnya berdasarkan data yang memiliki nilai acuan atau nilai sebenarnya, terdapat variabel x dan y\n",
        "2. unsupervised learning = algoritma machine learning akan belajar dari variabel x tanpa adanya variabel y atau nilai acuan, melakukan pengelompokkan data atau clusstering berdasarkan kemiripan karakteristik\n",
        "3. reinforcement learning = dimana algoritma machine learning ini belajarnya dengan sistem reward atau punishment"
      ],
      "metadata": {
        "id": "o3U-e3BTS1yJ"
      }
    },
    {
      "cell_type": "markdown",
      "source": [
        "package python\n",
        "1. scikit-learn yakni learn menyediakan banyak modul dan fungsi yang sangat membantu pada data scientist, terutama dalam melakukan persiapan data seperti rekayasa fitur atau pemisahan data\n",
        "2. scikit plot, kita dapat membuat visualisasi dari matriks evaluasi hasil model machine learning"
      ],
      "metadata": {
        "id": "z7EB67FkVUYN"
      }
    },
    {
      "cell_type": "markdown",
      "source": [
        "###REGRESI LINEAR"
      ],
      "metadata": {
        "id": "fPcqyxIBYHG3"
      }
    },
    {
      "cell_type": "markdown",
      "source": [
        "regresi linear = metode statistik yang melakukan prediksi dengan variabel target berupa numerik, melihat korelasi linear antara dua atau lebih variabel, melihat bagaimana variansi dari suatu variabel dapat berpengaruh ke variansi variabel yang lain dengan kata lain melakukan prediksi terhadap suatu nilai dari variabel y berdasarkan data dari variabel x."
      ],
      "metadata": {
        "id": "Ie0C13JuYUAo"
      }
    },
    {
      "cell_type": "markdown",
      "source": [
        "###Membangun model regresi linear"
      ],
      "metadata": {
        "id": "dcOmQa6qa815"
      }
    },
    {
      "cell_type": "code",
      "execution_count": null,
      "metadata": {
        "id": "oRpvk5R2H79V"
      },
      "outputs": [],
      "source": [
        "import numpy as np\n",
        "import pandas as pd\n",
        "import seaborn as sns\n",
        "import matplotlib.pyplot as plt"
      ]
    },
    {
      "cell_type": "code",
      "source": [
        "data = sns.load_dataset('tips')\n",
        "data.head()"
      ],
      "metadata": {
        "colab": {
          "base_uri": "https://localhost:8080/",
          "height": 206
        },
        "id": "unmheq1QbWFR",
        "outputId": "87300b46-23ac-4de0-9209-47636bd1e5ad"
      },
      "execution_count": null,
      "outputs": [
        {
          "output_type": "execute_result",
          "data": {
            "text/plain": [
              "   total_bill   tip     sex smoker  day    time  size\n",
              "0       16.99  1.01  Female     No  Sun  Dinner     2\n",
              "1       10.34  1.66    Male     No  Sun  Dinner     3\n",
              "2       21.01  3.50    Male     No  Sun  Dinner     3\n",
              "3       23.68  3.31    Male     No  Sun  Dinner     2\n",
              "4       24.59  3.61  Female     No  Sun  Dinner     4"
            ],
            "text/html": [
              "\n",
              "  <div id=\"df-b3537705-6036-48b9-85e9-58a68c5c093c\" class=\"colab-df-container\">\n",
              "    <div>\n",
              "<style scoped>\n",
              "    .dataframe tbody tr th:only-of-type {\n",
              "        vertical-align: middle;\n",
              "    }\n",
              "\n",
              "    .dataframe tbody tr th {\n",
              "        vertical-align: top;\n",
              "    }\n",
              "\n",
              "    .dataframe thead th {\n",
              "        text-align: right;\n",
              "    }\n",
              "</style>\n",
              "<table border=\"1\" class=\"dataframe\">\n",
              "  <thead>\n",
              "    <tr style=\"text-align: right;\">\n",
              "      <th></th>\n",
              "      <th>total_bill</th>\n",
              "      <th>tip</th>\n",
              "      <th>sex</th>\n",
              "      <th>smoker</th>\n",
              "      <th>day</th>\n",
              "      <th>time</th>\n",
              "      <th>size</th>\n",
              "    </tr>\n",
              "  </thead>\n",
              "  <tbody>\n",
              "    <tr>\n",
              "      <th>0</th>\n",
              "      <td>16.99</td>\n",
              "      <td>1.01</td>\n",
              "      <td>Female</td>\n",
              "      <td>No</td>\n",
              "      <td>Sun</td>\n",
              "      <td>Dinner</td>\n",
              "      <td>2</td>\n",
              "    </tr>\n",
              "    <tr>\n",
              "      <th>1</th>\n",
              "      <td>10.34</td>\n",
              "      <td>1.66</td>\n",
              "      <td>Male</td>\n",
              "      <td>No</td>\n",
              "      <td>Sun</td>\n",
              "      <td>Dinner</td>\n",
              "      <td>3</td>\n",
              "    </tr>\n",
              "    <tr>\n",
              "      <th>2</th>\n",
              "      <td>21.01</td>\n",
              "      <td>3.50</td>\n",
              "      <td>Male</td>\n",
              "      <td>No</td>\n",
              "      <td>Sun</td>\n",
              "      <td>Dinner</td>\n",
              "      <td>3</td>\n",
              "    </tr>\n",
              "    <tr>\n",
              "      <th>3</th>\n",
              "      <td>23.68</td>\n",
              "      <td>3.31</td>\n",
              "      <td>Male</td>\n",
              "      <td>No</td>\n",
              "      <td>Sun</td>\n",
              "      <td>Dinner</td>\n",
              "      <td>2</td>\n",
              "    </tr>\n",
              "    <tr>\n",
              "      <th>4</th>\n",
              "      <td>24.59</td>\n",
              "      <td>3.61</td>\n",
              "      <td>Female</td>\n",
              "      <td>No</td>\n",
              "      <td>Sun</td>\n",
              "      <td>Dinner</td>\n",
              "      <td>4</td>\n",
              "    </tr>\n",
              "  </tbody>\n",
              "</table>\n",
              "</div>\n",
              "    <div class=\"colab-df-buttons\">\n",
              "\n",
              "  <div class=\"colab-df-container\">\n",
              "    <button class=\"colab-df-convert\" onclick=\"convertToInteractive('df-b3537705-6036-48b9-85e9-58a68c5c093c')\"\n",
              "            title=\"Convert this dataframe to an interactive table.\"\n",
              "            style=\"display:none;\">\n",
              "\n",
              "  <svg xmlns=\"http://www.w3.org/2000/svg\" height=\"24px\" viewBox=\"0 -960 960 960\">\n",
              "    <path d=\"M120-120v-720h720v720H120Zm60-500h600v-160H180v160Zm220 220h160v-160H400v160Zm0 220h160v-160H400v160ZM180-400h160v-160H180v160Zm440 0h160v-160H620v160ZM180-180h160v-160H180v160Zm440 0h160v-160H620v160Z\"/>\n",
              "  </svg>\n",
              "    </button>\n",
              "\n",
              "  <style>\n",
              "    .colab-df-container {\n",
              "      display:flex;\n",
              "      gap: 12px;\n",
              "    }\n",
              "\n",
              "    .colab-df-convert {\n",
              "      background-color: #E8F0FE;\n",
              "      border: none;\n",
              "      border-radius: 50%;\n",
              "      cursor: pointer;\n",
              "      display: none;\n",
              "      fill: #1967D2;\n",
              "      height: 32px;\n",
              "      padding: 0 0 0 0;\n",
              "      width: 32px;\n",
              "    }\n",
              "\n",
              "    .colab-df-convert:hover {\n",
              "      background-color: #E2EBFA;\n",
              "      box-shadow: 0px 1px 2px rgba(60, 64, 67, 0.3), 0px 1px 3px 1px rgba(60, 64, 67, 0.15);\n",
              "      fill: #174EA6;\n",
              "    }\n",
              "\n",
              "    .colab-df-buttons div {\n",
              "      margin-bottom: 4px;\n",
              "    }\n",
              "\n",
              "    [theme=dark] .colab-df-convert {\n",
              "      background-color: #3B4455;\n",
              "      fill: #D2E3FC;\n",
              "    }\n",
              "\n",
              "    [theme=dark] .colab-df-convert:hover {\n",
              "      background-color: #434B5C;\n",
              "      box-shadow: 0px 1px 3px 1px rgba(0, 0, 0, 0.15);\n",
              "      filter: drop-shadow(0px 1px 2px rgba(0, 0, 0, 0.3));\n",
              "      fill: #FFFFFF;\n",
              "    }\n",
              "  </style>\n",
              "\n",
              "    <script>\n",
              "      const buttonEl =\n",
              "        document.querySelector('#df-b3537705-6036-48b9-85e9-58a68c5c093c button.colab-df-convert');\n",
              "      buttonEl.style.display =\n",
              "        google.colab.kernel.accessAllowed ? 'block' : 'none';\n",
              "\n",
              "      async function convertToInteractive(key) {\n",
              "        const element = document.querySelector('#df-b3537705-6036-48b9-85e9-58a68c5c093c');\n",
              "        const dataTable =\n",
              "          await google.colab.kernel.invokeFunction('convertToInteractive',\n",
              "                                                    [key], {});\n",
              "        if (!dataTable) return;\n",
              "\n",
              "        const docLinkHtml = 'Like what you see? Visit the ' +\n",
              "          '<a target=\"_blank\" href=https://colab.research.google.com/notebooks/data_table.ipynb>data table notebook</a>'\n",
              "          + ' to learn more about interactive tables.';\n",
              "        element.innerHTML = '';\n",
              "        dataTable['output_type'] = 'display_data';\n",
              "        await google.colab.output.renderOutput(dataTable, element);\n",
              "        const docLink = document.createElement('div');\n",
              "        docLink.innerHTML = docLinkHtml;\n",
              "        element.appendChild(docLink);\n",
              "      }\n",
              "    </script>\n",
              "  </div>\n",
              "\n",
              "\n",
              "<div id=\"df-9ca0f32a-d7d3-40ac-a00e-2052fa68eac3\">\n",
              "  <button class=\"colab-df-quickchart\" onclick=\"quickchart('df-9ca0f32a-d7d3-40ac-a00e-2052fa68eac3')\"\n",
              "            title=\"Suggest charts.\"\n",
              "            style=\"display:none;\">\n",
              "\n",
              "<svg xmlns=\"http://www.w3.org/2000/svg\" height=\"24px\"viewBox=\"0 0 24 24\"\n",
              "     width=\"24px\">\n",
              "    <g>\n",
              "        <path d=\"M19 3H5c-1.1 0-2 .9-2 2v14c0 1.1.9 2 2 2h14c1.1 0 2-.9 2-2V5c0-1.1-.9-2-2-2zM9 17H7v-7h2v7zm4 0h-2V7h2v10zm4 0h-2v-4h2v4z\"/>\n",
              "    </g>\n",
              "</svg>\n",
              "  </button>\n",
              "\n",
              "<style>\n",
              "  .colab-df-quickchart {\n",
              "    background-color: #E8F0FE;\n",
              "    border: none;\n",
              "    border-radius: 50%;\n",
              "    cursor: pointer;\n",
              "    display: none;\n",
              "    fill: #1967D2;\n",
              "    height: 32px;\n",
              "    padding: 0 0 0 0;\n",
              "    width: 32px;\n",
              "  }\n",
              "\n",
              "  .colab-df-quickchart:hover {\n",
              "    background-color: #E2EBFA;\n",
              "    box-shadow: 0px 1px 2px rgba(60, 64, 67, 0.3), 0px 1px 3px 1px rgba(60, 64, 67, 0.15);\n",
              "    fill: #174EA6;\n",
              "  }\n",
              "\n",
              "  [theme=dark] .colab-df-quickchart {\n",
              "    background-color: #3B4455;\n",
              "    fill: #D2E3FC;\n",
              "  }\n",
              "\n",
              "  [theme=dark] .colab-df-quickchart:hover {\n",
              "    background-color: #434B5C;\n",
              "    box-shadow: 0px 1px 3px 1px rgba(0, 0, 0, 0.15);\n",
              "    filter: drop-shadow(0px 1px 2px rgba(0, 0, 0, 0.3));\n",
              "    fill: #FFFFFF;\n",
              "  }\n",
              "</style>\n",
              "\n",
              "  <script>\n",
              "    async function quickchart(key) {\n",
              "      const charts = await google.colab.kernel.invokeFunction(\n",
              "          'suggestCharts', [key], {});\n",
              "    }\n",
              "    (() => {\n",
              "      let quickchartButtonEl =\n",
              "        document.querySelector('#df-9ca0f32a-d7d3-40ac-a00e-2052fa68eac3 button');\n",
              "      quickchartButtonEl.style.display =\n",
              "        google.colab.kernel.accessAllowed ? 'block' : 'none';\n",
              "    })();\n",
              "  </script>\n",
              "</div>\n",
              "    </div>\n",
              "  </div>\n"
            ]
          },
          "metadata": {},
          "execution_count": 4
        }
      ]
    },
    {
      "cell_type": "code",
      "source": [
        "x= data[['total_bill']]\n",
        "y= data[['tip']]"
      ],
      "metadata": {
        "id": "uZGUKEcGbjpa"
      },
      "execution_count": null,
      "outputs": []
    },
    {
      "cell_type": "code",
      "source": [
        "plt.scatter(x,y)"
      ],
      "metadata": {
        "colab": {
          "base_uri": "https://localhost:8080/",
          "height": 447
        },
        "id": "IXzJAig8cQCg",
        "outputId": "7776aec0-7989-4f14-d544-2bb193dd8825"
      },
      "execution_count": null,
      "outputs": [
        {
          "output_type": "execute_result",
          "data": {
            "text/plain": [
              "<matplotlib.collections.PathCollection at 0x7b4f3dab00a0>"
            ]
          },
          "metadata": {},
          "execution_count": 7
        },
        {
          "output_type": "display_data",
          "data": {
            "text/plain": [
              "<Figure size 640x480 with 1 Axes>"
            ],
            "image/png": "[encoded data removed]"
          },
          "metadata": {}
        }
      ]
    },
    {
      "cell_type": "markdown",
      "source": [
        "Data preparation"
      ],
      "metadata": {
        "id": "nS65rtcncsNy"
      }
    },
    {
      "cell_type": "code",
      "source": [
        "from sklearn.model_selection import train_test_split\n",
        "x_train, x_test, y_train, y_test = train_test_split(x, y, test_size = 0.2, random_state=42)"
      ],
      "metadata": {
        "id": "hn2f7kUacouB"
      },
      "execution_count": null,
      "outputs": []
    },
    {
      "cell_type": "markdown",
      "source": [
        "Membangun modelling"
      ],
      "metadata": {
        "id": "Bcvpbn18d8jf"
      }
    },
    {
      "cell_type": "code",
      "source": [
        "from sklearn.linear_model import LinearRegression\n",
        "model = LinearRegression()\n",
        "\n",
        "#training data\n",
        "model.fit(x_train, y_train)\n",
        "LinearRegression()"
      ],
      "metadata": {
        "colab": {
          "base_uri": "https://localhost:8080/",
          "height": 75
        },
        "id": "y5hdUpHUdg42",
        "outputId": "e72d0556-108f-42a7-a1ad-720fe4f3744f"
      },
      "execution_count": null,
      "outputs": [
        {
          "output_type": "execute_result",
          "data": {
            "text/plain": [
              "LinearRegression()"
            ],
            "text/html": [
              "<style>#sk-container-id-1 {color: black;background-color: white;}#sk-container-id-1 pre{padding: 0;}#sk-container-id-1 div.sk-toggleable {background-color: white;}#sk-container-id-1 label.sk-toggleable__label {cursor: pointer;display: block;width: 100%;margin-bottom: 0;padding: 0.3em;box-sizing: border-box;text-align: center;}#sk-container-id-1 label.sk-toggleable__label-arrow:before {content: \"▸\";float: left;margin-right: 0.25em;color: #696969;}#sk-container-id-1 label.sk-toggleable__label-arrow:hover:before {color: black;}#sk-container-id-1 div.sk-estimator:hover label.sk-toggleable__label-arrow:before {color: black;}#sk-container-id-1 div.sk-toggleable__content {max-height: 0;max-width: 0;overflow: hidden;text-align: left;background-color: #f0f8ff;}#sk-container-id-1 div.sk-toggleable__content pre {margin: 0.2em;color: black;border-radius: 0.25em;background-color: #f0f8ff;}#sk-container-id-1 input.sk-toggleable__control:checked~div.sk-toggleable__content {max-height: 200px;max-width: 100%;overflow: auto;}#sk-container-id-1 input.sk-toggleable__control:checked~label.sk-toggleable__label-arrow:before {content: \"▾\";}#sk-container-id-1 div.sk-estimator input.sk-toggleable__control:checked~label.sk-toggleable__label {background-color: #d4ebff;}#sk-container-id-1 div.sk-label input.sk-toggleable__control:checked~label.sk-toggleable__label {background-color: #d4ebff;}#sk-container-id-1 input.sk-hidden--visually {border: 0;clip: rect(1px 1px 1px 1px);clip: rect(1px, 1px, 1px, 1px);height: 1px;margin: -1px;overflow: hidden;padding: 0;position: absolute;width: 1px;}#sk-container-id-1 div.sk-estimator {font-family: monospace;background-color: #f0f8ff;border: 1px dotted black;border-radius: 0.25em;box-sizing: border-box;margin-bottom: 0.5em;}#sk-container-id-1 div.sk-estimator:hover {background-color: #d4ebff;}#sk-container-id-1 div.sk-parallel-item::after {content: \"\";width: 100%;border-bottom: 1px solid gray;flex-grow: 1;}#sk-container-id-1 div.sk-label:hover label.sk-toggleable__label {background-color: #d4ebff;}#sk-container-id-1 div.sk-serial::before {content: \"\";position: absolute;border-left: 1px solid gray;box-sizing: border-box;top: 0;bottom: 0;left: 50%;z-index: 0;}#sk-container-id-1 div.sk-serial {display: flex;flex-direction: column;align-items: center;background-color: white;padding-right: 0.2em;padding-left: 0.2em;position: relative;}#sk-container-id-1 div.sk-item {position: relative;z-index: 1;}#sk-container-id-1 div.sk-parallel {display: flex;align-items: stretch;justify-content: center;background-color: white;position: relative;}#sk-container-id-1 div.sk-item::before, #sk-container-id-1 div.sk-parallel-item::before {content: \"\";position: absolute;border-left: 1px solid gray;box-sizing: border-box;top: 0;bottom: 0;left: 50%;z-index: -1;}#sk-container-id-1 div.sk-parallel-item {display: flex;flex-direction: column;z-index: 1;position: relative;background-color: white;}#sk-container-id-1 div.sk-parallel-item:first-child::after {align-self: flex-end;width: 50%;}#sk-container-id-1 div.sk-parallel-item:last-child::after {align-self: flex-start;width: 50%;}#sk-container-id-1 div.sk-parallel-item:only-child::after {width: 0;}#sk-container-id-1 div.sk-dashed-wrapped {border: 1px dashed gray;margin: 0 0.4em 0.5em 0.4em;box-sizing: border-box;padding-bottom: 0.4em;background-color: white;}#sk-container-id-1 div.sk-label label {font-family: monospace;font-weight: bold;display: inline-block;line-height: 1.2em;}#sk-container-id-1 div.sk-label-container {text-align: center;}#sk-container-id-1 div.sk-container {/* jupyter's `normalize.less` sets `[hidden] { display: none; }` but bootstrap.min.css set `[hidden] { display: none !important; }` so we also need the `!important` here to be able to override the default hidden behavior on the sphinx rendered scikit-learn.org. See: https://github.com/scikit-learn/scikit-learn/issues/21755 */display: inline-block !important;position: relative;}#sk-container-id-1 div.sk-text-repr-fallback {display: none;}</style><div id=\"sk-container-id-1\" class=\"sk-top-container\"><div class=\"sk-text-repr-fallback\"><pre>LinearRegression()</pre><b>In a Jupyter environment, please rerun this cell to show the HTML representation or trust the notebook. <br />On GitHub, the HTML representation is unable to render, please try loading this page with nbviewer.org.</b></div><div class=\"sk-container\" hidden><div class=\"sk-item\"><div class=\"sk-estimator sk-toggleable\"><input class=\"sk-toggleable__control sk-hidden--visually\" id=\"sk-estimator-id-1\" type=\"checkbox\" checked><label for=\"sk-estimator-id-1\" class=\"sk-toggleable__label sk-toggleable__label-arrow\">LinearRegression</label><div class=\"sk-toggleable__content\"><pre>LinearRegression()</pre></div></div></div></div></div>"
            ]
          },
          "metadata": {},
          "execution_count": 11
        }
      ]
    },
    {
      "cell_type": "code",
      "source": [
        "pred = model.predict(x_test)"
      ],
      "metadata": {
        "id": "YYtTh3jofZ6w"
      },
      "execution_count": null,
      "outputs": []
    },
    {
      "cell_type": "code",
      "source": [
        "print('y=' + str(model.coef_)+ 'x' + '+' + str(model.intercept_))"
      ],
      "metadata": {
        "colab": {
          "base_uri": "https://localhost:8080/"
        },
        "id": "X76ocMCYff9_",
        "outputId": "e656893b-710a-4672-e205-1ef0391999e1"
      },
      "execution_count": null,
      "outputs": [
        {
          "output_type": "stream",
          "name": "stdout",
          "text": [
            "y=[[0.10696371]]x+[0.92523556]\n"
          ]
        }
      ]
    },
    {
      "cell_type": "markdown",
      "source": [
        "Membuat visualisasi"
      ],
      "metadata": {
        "id": "bv7wc1r0gdv8"
      }
    },
    {
      "cell_type": "code",
      "source": [
        "plt.scatter(x,y)\n",
        "plt.plot(x, model.predict(x), c='red', label = 'Regresi Linear')\n",
        "plt.legend()"
      ],
      "metadata": {
        "colab": {
          "base_uri": "https://localhost:8080/",
          "height": 447
        },
        "id": "ReM0xqYsgXBO",
        "outputId": "ff4a7219-cda9-48d6-fe75-bb4754bbcd14"
      },
      "execution_count": null,
      "outputs": [
        {
          "output_type": "execute_result",
          "data": {
            "text/plain": [
              "<matplotlib.legend.Legend at 0x7b4f3ab87b50>"
            ]
          },
          "metadata": {},
          "execution_count": 14
        },
        {
          "output_type": "display_data",
          "data": {
            "text/plain": [
              "<Figure size 640x480 with 1 Axes>"
            ],
            "image/png": "[encoded data removed]"
          },
          "metadata": {}
        }
      ]
    },
    {
      "cell_type": "markdown",
      "source": [
        "###Mengevaluasi model Regresi Linear"
      ],
      "metadata": {
        "id": "LmGXXU-8hdup"
      }
    },
    {
      "cell_type": "markdown",
      "source": [
        "beberapa matriks\n",
        "1. Mean Absolute Eror atau MAE\n",
        "2. Mean Squared Eror atau MSE\n",
        "3. Root Mean Squared atau RMSE\n",
        "4. Mean Absolute Percentage Eror atau MAPE\n",
        "5. Mean Absolute Deviation atau MAD\n",
        "6. r-squared dan r-squared adjusted"
      ],
      "metadata": {
        "id": "sP_9k7DpiIYN"
      }
    },
    {
      "cell_type": "markdown",
      "source": [
        "MAE\n",
        "![mae.webp](data:image/webp;base64,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)"
      ],
      "metadata": {
        "id": "v9B02moLjv1l"
      }
    },
    {
      "cell_type": "code",
      "source": [],
      "metadata": {
        "id": "7AIyBOE0g9dX"
      },
      "execution_count": null,
      "outputs": []
    }
  ]
}